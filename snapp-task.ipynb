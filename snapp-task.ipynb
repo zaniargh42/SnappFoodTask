{
 "cells": [
  {
   "cell_type": "code",
   "execution_count": 82,
   "metadata": {},
   "outputs": [],
   "source": [
    "import pandas as pd\n",
    "import numpy as np\n",
    "import matplotlib.pyplot as plt\n",
    "import datetime\n",
    "import statistics as st\n",
    "from tqdm import tqdm"
   ]
  },
  {
   "cell_type": "code",
   "execution_count": 22,
   "metadata": {},
   "outputs": [
    {
     "data": {
      "text/html": [
       "<div>\n",
       "<style scoped>\n",
       "    .dataframe tbody tr th:only-of-type {\n",
       "        vertical-align: middle;\n",
       "    }\n",
       "\n",
       "    .dataframe tbody tr th {\n",
       "        vertical-align: top;\n",
       "    }\n",
       "\n",
       "    .dataframe thead th {\n",
       "        text-align: right;\n",
       "    }\n",
       "</style>\n",
       "<table border=\"1\" class=\"dataframe\">\n",
       "  <thead>\n",
       "    <tr style=\"text-align: right;\">\n",
       "      <th></th>\n",
       "      <th>order_id</th>\n",
       "      <th>user_id</th>\n",
       "      <th>created_at</th>\n",
       "      <th>discount_cost</th>\n",
       "      <th>discount_type</th>\n",
       "      <th>basket</th>\n",
       "    </tr>\n",
       "  </thead>\n",
       "  <tbody>\n",
       "    <tr>\n",
       "      <th>0</th>\n",
       "      <td>6</td>\n",
       "      <td>6</td>\n",
       "      <td>2022-01-01</td>\n",
       "      <td>0</td>\n",
       "      <td>NaN</td>\n",
       "      <td>10000</td>\n",
       "    </tr>\n",
       "    <tr>\n",
       "      <th>1</th>\n",
       "      <td>7</td>\n",
       "      <td>7</td>\n",
       "      <td>2022-01-01</td>\n",
       "      <td>0</td>\n",
       "      <td>NaN</td>\n",
       "      <td>29500</td>\n",
       "    </tr>\n",
       "    <tr>\n",
       "      <th>2</th>\n",
       "      <td>8</td>\n",
       "      <td>8</td>\n",
       "      <td>2022-01-01</td>\n",
       "      <td>10000</td>\n",
       "      <td>1.0</td>\n",
       "      <td>10000</td>\n",
       "    </tr>\n",
       "    <tr>\n",
       "      <th>3</th>\n",
       "      <td>9</td>\n",
       "      <td>9</td>\n",
       "      <td>2022-01-01</td>\n",
       "      <td>0</td>\n",
       "      <td>NaN</td>\n",
       "      <td>5000</td>\n",
       "    </tr>\n",
       "    <tr>\n",
       "      <th>4</th>\n",
       "      <td>10</td>\n",
       "      <td>10</td>\n",
       "      <td>2022-01-01</td>\n",
       "      <td>0</td>\n",
       "      <td>NaN</td>\n",
       "      <td>35000</td>\n",
       "    </tr>\n",
       "    <tr>\n",
       "      <th>...</th>\n",
       "      <td>...</td>\n",
       "      <td>...</td>\n",
       "      <td>...</td>\n",
       "      <td>...</td>\n",
       "      <td>...</td>\n",
       "      <td>...</td>\n",
       "    </tr>\n",
       "    <tr>\n",
       "      <th>29047</th>\n",
       "      <td>29053</td>\n",
       "      <td>6622</td>\n",
       "      <td>2022-07-31</td>\n",
       "      <td>0</td>\n",
       "      <td>NaN</td>\n",
       "      <td>18000</td>\n",
       "    </tr>\n",
       "    <tr>\n",
       "      <th>29048</th>\n",
       "      <td>29054</td>\n",
       "      <td>9985</td>\n",
       "      <td>2022-07-31</td>\n",
       "      <td>0</td>\n",
       "      <td>NaN</td>\n",
       "      <td>25000</td>\n",
       "    </tr>\n",
       "    <tr>\n",
       "      <th>29049</th>\n",
       "      <td>29055</td>\n",
       "      <td>8843</td>\n",
       "      <td>2022-07-31</td>\n",
       "      <td>6000</td>\n",
       "      <td>1.0</td>\n",
       "      <td>24000</td>\n",
       "    </tr>\n",
       "    <tr>\n",
       "      <th>29050</th>\n",
       "      <td>29056</td>\n",
       "      <td>8703</td>\n",
       "      <td>2022-07-31</td>\n",
       "      <td>0</td>\n",
       "      <td>NaN</td>\n",
       "      <td>40000</td>\n",
       "    </tr>\n",
       "    <tr>\n",
       "      <th>29051</th>\n",
       "      <td>29057</td>\n",
       "      <td>4424</td>\n",
       "      <td>2022-07-31</td>\n",
       "      <td>0</td>\n",
       "      <td>NaN</td>\n",
       "      <td>17000</td>\n",
       "    </tr>\n",
       "  </tbody>\n",
       "</table>\n",
       "<p>29052 rows × 6 columns</p>\n",
       "</div>"
      ],
      "text/plain": [
       "       order_id  user_id  created_at  discount_cost  discount_type  basket\n",
       "0             6        6  2022-01-01              0            NaN   10000\n",
       "1             7        7  2022-01-01              0            NaN   29500\n",
       "2             8        8  2022-01-01          10000            1.0   10000\n",
       "3             9        9  2022-01-01              0            NaN    5000\n",
       "4            10       10  2022-01-01              0            NaN   35000\n",
       "...         ...      ...         ...            ...            ...     ...\n",
       "29047     29053     6622  2022-07-31              0            NaN   18000\n",
       "29048     29054     9985  2022-07-31              0            NaN   25000\n",
       "29049     29055     8843  2022-07-31           6000            1.0   24000\n",
       "29050     29056     8703  2022-07-31              0            NaN   40000\n",
       "29051     29057     4424  2022-07-31              0            NaN   17000\n",
       "\n",
       "[29052 rows x 6 columns]"
      ]
     },
     "execution_count": 22,
     "metadata": {},
     "output_type": "execute_result"
    }
   ],
   "source": [
    "data=pd.read_csv('Data analyst Task.csv')\n",
    "data.drop([0,1,2,3,4],axis=0,inplace=True)\n",
    "data.reset_index(drop=True,inplace=True)\n",
    "created_at=[]\n",
    "for item in data.created_at:\n",
    "    created_at.append(datetime.date(int(item[-4:]),int(item[0]),int(item[2:-5])))\n",
    "data['created_at']=created_at\n",
    "data"
   ]
  },
  {
   "attachments": {},
   "cell_type": "markdown",
   "metadata": {},
   "source": [
    "# number of orders per months"
   ]
  },
  {
   "cell_type": "code",
   "execution_count": 40,
   "metadata": {},
   "outputs": [
    {
     "data": {
      "text/plain": [
       "[1999, 2915, 3132, 4713, 4479, 5419, 6395]"
      ]
     },
     "execution_count": 40,
     "metadata": {},
     "output_type": "execute_result"
    }
   ],
   "source": [
    "months=[item.month for item in data.created_at]\n",
    "months_orders=[months.count(item) for item in range(1,8)]\n",
    "months_orders"
   ]
  },
  {
   "cell_type": "code",
   "execution_count": 41,
   "metadata": {},
   "outputs": [
    {
     "data": {
      "image/png": "[encoded data removed]",
      "text/plain": [
       "<Figure size 504x360 with 1 Axes>"
      ]
     },
     "metadata": {
      "needs_background": "light"
     },
     "output_type": "display_data"
    }
   ],
   "source": [
    "plt.figure(figsize=(7,5))\n",
    "plt.plot(months_orders)\n",
    "plt.title('number of order per months')\n",
    "plt.xticks(ticks=range(7),labels=[1,2,3,4,5,6,7])\n",
    "for i in months_orders:\n",
    "    plt.text(months_orders.index(i),i,s=i)\n",
    "plt.show()"
   ]
  },
  {
   "attachments": {},
   "cell_type": "markdown",
   "metadata": {},
   "source": [
    "# sum of baskets per months"
   ]
  },
  {
   "cell_type": "code",
   "execution_count": 49,
   "metadata": {},
   "outputs": [],
   "source": [
    "months_basket=[]\n",
    "for item in range(1,8):\n",
    "    temp=data[data.created_at.apply(lambda row : row.month==item)]\n",
    "    months_basket.append(temp.basket.sum())"
   ]
  },
  {
   "cell_type": "code",
   "execution_count": 60,
   "metadata": {},
   "outputs": [
    {
     "data": {
      "image/png": "[encoded data removed]",
      "text/plain": [
       "<Figure size 504x360 with 1 Axes>"
      ]
     },
     "metadata": {
      "needs_background": "light"
     },
     "output_type": "display_data"
    }
   ],
   "source": [
    "plt.figure(figsize=(7,5))\n",
    "plt.plot(months_basket)\n",
    "plt.title('sum of order per months')\n",
    "plt.xticks(ticks=range(7),labels=[1,2,3,4,5,6,7])\n",
    "for i in months_basket:\n",
    "    plt.text(months_basket.index(i),i,s=f'{round(i,-6)/1000000}M')\n",
    "plt.show()"
   ]
  },
  {
   "cell_type": "code",
   "execution_count": 70,
   "metadata": {},
   "outputs": [
    {
     "name": "stderr",
     "output_type": "stream",
     "text": [
      "100%|██████████| 29052/29052 [01:44<00:00, 277.23it/s]\n"
     ]
    }
   ],
   "source": [
    "from tqdm import tqdm\n",
    "new_user=[]\n",
    "for index in tqdm(data.index):\n",
    "    user=data.user_id[index]\n",
    "    temp=list(data.user_id[0:index])\n",
    "    if user in temp:\n",
    "        new_user.append(0)\n",
    "    else:\n",
    "        new_user.append(1)"
   ]
  },
  {
   "cell_type": "code",
   "execution_count": 73,
   "metadata": {},
   "outputs": [
    {
     "data": {
      "text/html": [
       "<div>\n",
       "<style scoped>\n",
       "    .dataframe tbody tr th:only-of-type {\n",
       "        vertical-align: middle;\n",
       "    }\n",
       "\n",
       "    .dataframe tbody tr th {\n",
       "        vertical-align: top;\n",
       "    }\n",
       "\n",
       "    .dataframe thead th {\n",
       "        text-align: right;\n",
       "    }\n",
       "</style>\n",
       "<table border=\"1\" class=\"dataframe\">\n",
       "  <thead>\n",
       "    <tr style=\"text-align: right;\">\n",
       "      <th></th>\n",
       "      <th>order_id</th>\n",
       "      <th>user_id</th>\n",
       "      <th>created_at</th>\n",
       "      <th>discount_cost</th>\n",
       "      <th>discount_type</th>\n",
       "      <th>basket</th>\n",
       "      <th>new_user</th>\n",
       "    </tr>\n",
       "  </thead>\n",
       "  <tbody>\n",
       "    <tr>\n",
       "      <th>0</th>\n",
       "      <td>6</td>\n",
       "      <td>6</td>\n",
       "      <td>2022-01-01</td>\n",
       "      <td>0</td>\n",
       "      <td>NaN</td>\n",
       "      <td>10000</td>\n",
       "      <td>1</td>\n",
       "    </tr>\n",
       "    <tr>\n",
       "      <th>1</th>\n",
       "      <td>7</td>\n",
       "      <td>7</td>\n",
       "      <td>2022-01-01</td>\n",
       "      <td>0</td>\n",
       "      <td>NaN</td>\n",
       "      <td>29500</td>\n",
       "      <td>1</td>\n",
       "    </tr>\n",
       "    <tr>\n",
       "      <th>2</th>\n",
       "      <td>8</td>\n",
       "      <td>8</td>\n",
       "      <td>2022-01-01</td>\n",
       "      <td>10000</td>\n",
       "      <td>1.0</td>\n",
       "      <td>10000</td>\n",
       "      <td>1</td>\n",
       "    </tr>\n",
       "    <tr>\n",
       "      <th>3</th>\n",
       "      <td>9</td>\n",
       "      <td>9</td>\n",
       "      <td>2022-01-01</td>\n",
       "      <td>0</td>\n",
       "      <td>NaN</td>\n",
       "      <td>5000</td>\n",
       "      <td>1</td>\n",
       "    </tr>\n",
       "    <tr>\n",
       "      <th>4</th>\n",
       "      <td>10</td>\n",
       "      <td>10</td>\n",
       "      <td>2022-01-01</td>\n",
       "      <td>0</td>\n",
       "      <td>NaN</td>\n",
       "      <td>35000</td>\n",
       "      <td>1</td>\n",
       "    </tr>\n",
       "    <tr>\n",
       "      <th>...</th>\n",
       "      <td>...</td>\n",
       "      <td>...</td>\n",
       "      <td>...</td>\n",
       "      <td>...</td>\n",
       "      <td>...</td>\n",
       "      <td>...</td>\n",
       "      <td>...</td>\n",
       "    </tr>\n",
       "    <tr>\n",
       "      <th>29047</th>\n",
       "      <td>29053</td>\n",
       "      <td>6622</td>\n",
       "      <td>2022-07-31</td>\n",
       "      <td>0</td>\n",
       "      <td>NaN</td>\n",
       "      <td>18000</td>\n",
       "      <td>0</td>\n",
       "    </tr>\n",
       "    <tr>\n",
       "      <th>29048</th>\n",
       "      <td>29054</td>\n",
       "      <td>9985</td>\n",
       "      <td>2022-07-31</td>\n",
       "      <td>0</td>\n",
       "      <td>NaN</td>\n",
       "      <td>25000</td>\n",
       "      <td>1</td>\n",
       "    </tr>\n",
       "    <tr>\n",
       "      <th>29049</th>\n",
       "      <td>29055</td>\n",
       "      <td>8843</td>\n",
       "      <td>2022-07-31</td>\n",
       "      <td>6000</td>\n",
       "      <td>1.0</td>\n",
       "      <td>24000</td>\n",
       "      <td>0</td>\n",
       "    </tr>\n",
       "    <tr>\n",
       "      <th>29050</th>\n",
       "      <td>29056</td>\n",
       "      <td>8703</td>\n",
       "      <td>2022-07-31</td>\n",
       "      <td>0</td>\n",
       "      <td>NaN</td>\n",
       "      <td>40000</td>\n",
       "      <td>0</td>\n",
       "    </tr>\n",
       "    <tr>\n",
       "      <th>29051</th>\n",
       "      <td>29057</td>\n",
       "      <td>4424</td>\n",
       "      <td>2022-07-31</td>\n",
       "      <td>0</td>\n",
       "      <td>NaN</td>\n",
       "      <td>17000</td>\n",
       "      <td>0</td>\n",
       "    </tr>\n",
       "  </tbody>\n",
       "</table>\n",
       "<p>29052 rows × 7 columns</p>\n",
       "</div>"
      ],
      "text/plain": [
       "       order_id  user_id  created_at  discount_cost  discount_type  basket  \\\n",
       "0             6        6  2022-01-01              0            NaN   10000   \n",
       "1             7        7  2022-01-01              0            NaN   29500   \n",
       "2             8        8  2022-01-01          10000            1.0   10000   \n",
       "3             9        9  2022-01-01              0            NaN    5000   \n",
       "4            10       10  2022-01-01              0            NaN   35000   \n",
       "...         ...      ...         ...            ...            ...     ...   \n",
       "29047     29053     6622  2022-07-31              0            NaN   18000   \n",
       "29048     29054     9985  2022-07-31              0            NaN   25000   \n",
       "29049     29055     8843  2022-07-31           6000            1.0   24000   \n",
       "29050     29056     8703  2022-07-31              0            NaN   40000   \n",
       "29051     29057     4424  2022-07-31              0            NaN   17000   \n",
       "\n",
       "       new_user  \n",
       "0             1  \n",
       "1             1  \n",
       "2             1  \n",
       "3             1  \n",
       "4             1  \n",
       "...         ...  \n",
       "29047         0  \n",
       "29048         1  \n",
       "29049         0  \n",
       "29050         0  \n",
       "29051         0  \n",
       "\n",
       "[29052 rows x 7 columns]"
      ]
     },
     "execution_count": 73,
     "metadata": {},
     "output_type": "execute_result"
    }
   ],
   "source": [
    "data['new_user']=new_user\n",
    "data"
   ]
  },
  {
   "cell_type": "code",
   "execution_count": 93,
   "metadata": {},
   "outputs": [],
   "source": [
    "next_orders=[]\n",
    "for month in range(1,7):\n",
    "    temp=data[data.created_at.apply(lambda row : row.month==month)]\n",
    "    temp=temp[temp.new_user==1]\n",
    "    jan_new_users=list(temp.user_id)\n",
    "    temp=data[data.created_at.apply(lambda row : row.month==month+1)]\n",
    "    feb_orders=[]\n",
    "    for item in jan_new_users:\n",
    "        feb_orders.append(list(temp.user_id).count(item))\n",
    "\n",
    "    feb_orders_nonzeros=list(filter(lambda x: x > 0, feb_orders))\n",
    "    next_orders.append(st.mean(feb_orders_nonzeros))"
   ]
  },
  {
   "cell_type": "code",
   "execution_count": 98,
   "metadata": {},
   "outputs": [
    {
     "data": {
      "image/png": "[encoded data removed]",
      "text/plain": [
       "<Figure size 432x288 with 1 Axes>"
      ]
     },
     "metadata": {
      "needs_background": "light"
     },
     "output_type": "display_data"
    }
   ],
   "source": [
    "plt.bar(range(2,8),next_orders)\n",
    "plt.show()\n"
   ]
  },
  {
   "cell_type": "code",
   "execution_count": 92,
   "metadata": {},
   "outputs": [
    {
     "data": {
      "text/plain": [
       "1.9759299781181618"
      ]
     },
     "execution_count": 92,
     "metadata": {},
     "output_type": "execute_result"
    }
   ],
   "source": []
  },
  {
   "cell_type": "code",
   "execution_count": null,
   "metadata": {},
   "outputs": [],
   "source": []
  }
 ],
 "metadata": {
  "kernelspec": {
   "display_name": "Python 3",
   "language": "python",
   "name": "python3"
  },
  "language_info": {
   "codemirror_mode": {
    "name": "ipython",
    "version": 3
   },
   "file_extension": ".py",
   "mimetype": "text/x-python",
   "name": "python",
   "nbconvert_exporter": "python",
   "pygments_lexer": "ipython3",
   "version": "3.10.6"
  },
  "orig_nbformat": 4,
  "vscode": {
   "interpreter": {
    "hash": "916dbcbb3f70747c44a77c7bcd40155683ae19c65e1c03b4aa3499c5328201f1"
   }
  }
 },
 "nbformat": 4,
 "nbformat_minor": 2
}
